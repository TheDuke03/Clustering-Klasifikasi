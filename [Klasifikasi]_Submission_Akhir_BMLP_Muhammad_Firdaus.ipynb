{
  "nbformat": 4,
  "nbformat_minor": 0,
  "metadata": {
    "colab": {
      "provenance": []
    },
    "kernelspec": {
      "name": "python3",
      "display_name": "Python 3"
    },
    "language_info": {
      "name": "python"
    }
  },
  "cells": [
    {
      "cell_type": "markdown",
      "source": [
        "# **1. Import Library**"
      ],
      "metadata": {
        "id": "x-3Mw3bVWCyE"
      }
    },
    {
      "cell_type": "code",
      "execution_count": 24,
      "metadata": {
        "id": "E0kQhuzCV5XT"
      },
      "outputs": [],
      "source": [
        "import pandas as pd\n",
        "import numpy as np\n",
        "import seaborn as sns\n",
        "import matplotlib.pyplot as plt\n",
        "from sklearn.metrics import confusion_matrix\n",
        "from sklearn.model_selection import train_test_split\n",
        "from sklearn.ensemble import RandomForestClassifier\n",
        "from sklearn.linear_model import LogisticRegression\n",
        "from sklearn.model_selection import train_test_split\n",
        "from sklearn.model_selection import GridSearchCV\n",
        "from sklearn.metrics import accuracy_score, precision_score, recall_score, f1_score, classification_report"
      ]
    },
    {
      "cell_type": "markdown",
      "source": [
        "# **2. Memuat Dataset dari Hasil Clustering**"
      ],
      "metadata": {
        "id": "ZmiowgEgYJJJ"
      }
    },
    {
      "cell_type": "markdown",
      "source": [
        "memanggil dataset yg sebelumnya sudah di clustering, dan menampilkan 5 baris pertama pada dataset nya"
      ],
      "metadata": {
        "id": "OGg598IShPrH"
      }
    },
    {
      "cell_type": "code",
      "source": [
        "file_path = \"hasil_clustering.csv\"\n",
        "df = pd.read_csv(file_path)\n",
        "\n",
        "# Tampilkan 5 baris pertama dataset\n",
        "df.head()"
      ],
      "metadata": {
        "colab": {
          "base_uri": "https://localhost:8080/",
          "height": 0
        },
        "id": "mrTHxFMEYWBo",
        "outputId": "cbe7c85b-7f9a-4e66-961e-59fc14fab7ed"
      },
      "execution_count": 25,
      "outputs": [
        {
          "output_type": "execute_result",
          "data": {
            "text/plain": [
              "   gender  tools  level of education  mental health  test mode  \\\n",
              "0       0      0                   1              0          1   \n",
              "1       0      2                   2              0          0   \n",
              "2       0      0                   2              0          1   \n",
              "3       1      3                   0              1          1   \n",
              "4       1      2                   2              0          1   \n",
              "\n",
              "   score before pandemic  score after pandemic  aggregate score  Cluster  \\\n",
              "0              96.451842             98.386189        96.029074        1   \n",
              "1              96.451842            113.009866       110.241549        0   \n",
              "2             111.642049            113.009866       110.241549        0   \n",
              "3              81.261635             83.762511        81.816600        2   \n",
              "4             111.642049             98.386189        96.029074        0   \n",
              "\n",
              "   Cluster_Selected  \n",
              "0                 1  \n",
              "1                 0  \n",
              "2                 0  \n",
              "3                 2  \n",
              "4                 0  "
            ],
            "text/html": [
              "\n",
              "  <div id=\"df-345a4a8b-ead3-49b3-a5d4-03d660bee066\" class=\"colab-df-container\">\n",
              "    <div>\n",
              "<style scoped>\n",
              "    .dataframe tbody tr th:only-of-type {\n",
              "        vertical-align: middle;\n",
              "    }\n",
              "\n",
              "    .dataframe tbody tr th {\n",
              "        vertical-align: top;\n",
              "    }\n",
              "\n",
              "    .dataframe thead th {\n",
              "        text-align: right;\n",
              "    }\n",
              "</style>\n",
              "<table border=\"1\" class=\"dataframe\">\n",
              "  <thead>\n",
              "    <tr style=\"text-align: right;\">\n",
              "      <th></th>\n",
              "      <th>gender</th>\n",
              "      <th>tools</th>\n",
              "      <th>level of education</th>\n",
              "      <th>mental health</th>\n",
              "      <th>test mode</th>\n",
              "      <th>score before pandemic</th>\n",
              "      <th>score after pandemic</th>\n",
              "      <th>aggregate score</th>\n",
              "      <th>Cluster</th>\n",
              "      <th>Cluster_Selected</th>\n",
              "    </tr>\n",
              "  </thead>\n",
              "  <tbody>\n",
              "    <tr>\n",
              "      <th>0</th>\n",
              "      <td>0</td>\n",
              "      <td>0</td>\n",
              "      <td>1</td>\n",
              "      <td>0</td>\n",
              "      <td>1</td>\n",
              "      <td>96.451842</td>\n",
              "      <td>98.386189</td>\n",
              "      <td>96.029074</td>\n",
              "      <td>1</td>\n",
              "      <td>1</td>\n",
              "    </tr>\n",
              "    <tr>\n",
              "      <th>1</th>\n",
              "      <td>0</td>\n",
              "      <td>2</td>\n",
              "      <td>2</td>\n",
              "      <td>0</td>\n",
              "      <td>0</td>\n",
              "      <td>96.451842</td>\n",
              "      <td>113.009866</td>\n",
              "      <td>110.241549</td>\n",
              "      <td>0</td>\n",
              "      <td>0</td>\n",
              "    </tr>\n",
              "    <tr>\n",
              "      <th>2</th>\n",
              "      <td>0</td>\n",
              "      <td>0</td>\n",
              "      <td>2</td>\n",
              "      <td>0</td>\n",
              "      <td>1</td>\n",
              "      <td>111.642049</td>\n",
              "      <td>113.009866</td>\n",
              "      <td>110.241549</td>\n",
              "      <td>0</td>\n",
              "      <td>0</td>\n",
              "    </tr>\n",
              "    <tr>\n",
              "      <th>3</th>\n",
              "      <td>1</td>\n",
              "      <td>3</td>\n",
              "      <td>0</td>\n",
              "      <td>1</td>\n",
              "      <td>1</td>\n",
              "      <td>81.261635</td>\n",
              "      <td>83.762511</td>\n",
              "      <td>81.816600</td>\n",
              "      <td>2</td>\n",
              "      <td>2</td>\n",
              "    </tr>\n",
              "    <tr>\n",
              "      <th>4</th>\n",
              "      <td>1</td>\n",
              "      <td>2</td>\n",
              "      <td>2</td>\n",
              "      <td>0</td>\n",
              "      <td>1</td>\n",
              "      <td>111.642049</td>\n",
              "      <td>98.386189</td>\n",
              "      <td>96.029074</td>\n",
              "      <td>0</td>\n",
              "      <td>0</td>\n",
              "    </tr>\n",
              "  </tbody>\n",
              "</table>\n",
              "</div>\n",
              "    <div class=\"colab-df-buttons\">\n",
              "\n",
              "  <div class=\"colab-df-container\">\n",
              "    <button class=\"colab-df-convert\" onclick=\"convertToInteractive('df-345a4a8b-ead3-49b3-a5d4-03d660bee066')\"\n",
              "            title=\"Convert this dataframe to an interactive table.\"\n",
              "            style=\"display:none;\">\n",
              "\n",
              "  <svg xmlns=\"http://www.w3.org/2000/svg\" height=\"24px\" viewBox=\"0 -960 960 960\">\n",
              "    <path d=\"M120-120v-720h720v720H120Zm60-500h600v-160H180v160Zm220 220h160v-160H400v160Zm0 220h160v-160H400v160ZM180-400h160v-160H180v160Zm440 0h160v-160H620v160ZM180-180h160v-160H180v160Zm440 0h160v-160H620v160Z\"/>\n",
              "  </svg>\n",
              "    </button>\n",
              "\n",
              "  <style>\n",
              "    .colab-df-container {\n",
              "      display:flex;\n",
              "      gap: 12px;\n",
              "    }\n",
              "\n",
              "    .colab-df-convert {\n",
              "      background-color: #E8F0FE;\n",
              "      border: none;\n",
              "      border-radius: 50%;\n",
              "      cursor: pointer;\n",
              "      display: none;\n",
              "      fill: #1967D2;\n",
              "      height: 32px;\n",
              "      padding: 0 0 0 0;\n",
              "      width: 32px;\n",
              "    }\n",
              "\n",
              "    .colab-df-convert:hover {\n",
              "      background-color: #E2EBFA;\n",
              "      box-shadow: 0px 1px 2px rgba(60, 64, 67, 0.3), 0px 1px 3px 1px rgba(60, 64, 67, 0.15);\n",
              "      fill: #174EA6;\n",
              "    }\n",
              "\n",
              "    .colab-df-buttons div {\n",
              "      margin-bottom: 4px;\n",
              "    }\n",
              "\n",
              "    [theme=dark] .colab-df-convert {\n",
              "      background-color: #3B4455;\n",
              "      fill: #D2E3FC;\n",
              "    }\n",
              "\n",
              "    [theme=dark] .colab-df-convert:hover {\n",
              "      background-color: #434B5C;\n",
              "      box-shadow: 0px 1px 3px 1px rgba(0, 0, 0, 0.15);\n",
              "      filter: drop-shadow(0px 1px 2px rgba(0, 0, 0, 0.3));\n",
              "      fill: #FFFFFF;\n",
              "    }\n",
              "  </style>\n",
              "\n",
              "    <script>\n",
              "      const buttonEl =\n",
              "        document.querySelector('#df-345a4a8b-ead3-49b3-a5d4-03d660bee066 button.colab-df-convert');\n",
              "      buttonEl.style.display =\n",
              "        google.colab.kernel.accessAllowed ? 'block' : 'none';\n",
              "\n",
              "      async function convertToInteractive(key) {\n",
              "        const element = document.querySelector('#df-345a4a8b-ead3-49b3-a5d4-03d660bee066');\n",
              "        const dataTable =\n",
              "          await google.colab.kernel.invokeFunction('convertToInteractive',\n",
              "                                                    [key], {});\n",
              "        if (!dataTable) return;\n",
              "\n",
              "        const docLinkHtml = 'Like what you see? Visit the ' +\n",
              "          '<a target=\"_blank\" href=https://colab.research.google.com/notebooks/data_table.ipynb>data table notebook</a>'\n",
              "          + ' to learn more about interactive tables.';\n",
              "        element.innerHTML = '';\n",
              "        dataTable['output_type'] = 'display_data';\n",
              "        await google.colab.output.renderOutput(dataTable, element);\n",
              "        const docLink = document.createElement('div');\n",
              "        docLink.innerHTML = docLinkHtml;\n",
              "        element.appendChild(docLink);\n",
              "      }\n",
              "    </script>\n",
              "  </div>\n",
              "\n",
              "\n",
              "<div id=\"df-6b51626a-8f6b-472a-8bcb-1a8857172395\">\n",
              "  <button class=\"colab-df-quickchart\" onclick=\"quickchart('df-6b51626a-8f6b-472a-8bcb-1a8857172395')\"\n",
              "            title=\"Suggest charts\"\n",
              "            style=\"display:none;\">\n",
              "\n",
              "<svg xmlns=\"http://www.w3.org/2000/svg\" height=\"24px\"viewBox=\"0 0 24 24\"\n",
              "     width=\"24px\">\n",
              "    <g>\n",
              "        <path d=\"M19 3H5c-1.1 0-2 .9-2 2v14c0 1.1.9 2 2 2h14c1.1 0 2-.9 2-2V5c0-1.1-.9-2-2-2zM9 17H7v-7h2v7zm4 0h-2V7h2v10zm4 0h-2v-4h2v4z\"/>\n",
              "    </g>\n",
              "</svg>\n",
              "  </button>\n",
              "\n",
              "<style>\n",
              "  .colab-df-quickchart {\n",
              "      --bg-color: #E8F0FE;\n",
              "      --fill-color: #1967D2;\n",
              "      --hover-bg-color: #E2EBFA;\n",
              "      --hover-fill-color: #174EA6;\n",
              "      --disabled-fill-color: #AAA;\n",
              "      --disabled-bg-color: #DDD;\n",
              "  }\n",
              "\n",
              "  [theme=dark] .colab-df-quickchart {\n",
              "      --bg-color: #3B4455;\n",
              "      --fill-color: #D2E3FC;\n",
              "      --hover-bg-color: #434B5C;\n",
              "      --hover-fill-color: #FFFFFF;\n",
              "      --disabled-bg-color: #3B4455;\n",
              "      --disabled-fill-color: #666;\n",
              "  }\n",
              "\n",
              "  .colab-df-quickchart {\n",
              "    background-color: var(--bg-color);\n",
              "    border: none;\n",
              "    border-radius: 50%;\n",
              "    cursor: pointer;\n",
              "    display: none;\n",
              "    fill: var(--fill-color);\n",
              "    height: 32px;\n",
              "    padding: 0;\n",
              "    width: 32px;\n",
              "  }\n",
              "\n",
              "  .colab-df-quickchart:hover {\n",
              "    background-color: var(--hover-bg-color);\n",
              "    box-shadow: 0 1px 2px rgba(60, 64, 67, 0.3), 0 1px 3px 1px rgba(60, 64, 67, 0.15);\n",
              "    fill: var(--button-hover-fill-color);\n",
              "  }\n",
              "\n",
              "  .colab-df-quickchart-complete:disabled,\n",
              "  .colab-df-quickchart-complete:disabled:hover {\n",
              "    background-color: var(--disabled-bg-color);\n",
              "    fill: var(--disabled-fill-color);\n",
              "    box-shadow: none;\n",
              "  }\n",
              "\n",
              "  .colab-df-spinner {\n",
              "    border: 2px solid var(--fill-color);\n",
              "    border-color: transparent;\n",
              "    border-bottom-color: var(--fill-color);\n",
              "    animation:\n",
              "      spin 1s steps(1) infinite;\n",
              "  }\n",
              "\n",
              "  @keyframes spin {\n",
              "    0% {\n",
              "      border-color: transparent;\n",
              "      border-bottom-color: var(--fill-color);\n",
              "      border-left-color: var(--fill-color);\n",
              "    }\n",
              "    20% {\n",
              "      border-color: transparent;\n",
              "      border-left-color: var(--fill-color);\n",
              "      border-top-color: var(--fill-color);\n",
              "    }\n",
              "    30% {\n",
              "      border-color: transparent;\n",
              "      border-left-color: var(--fill-color);\n",
              "      border-top-color: var(--fill-color);\n",
              "      border-right-color: var(--fill-color);\n",
              "    }\n",
              "    40% {\n",
              "      border-color: transparent;\n",
              "      border-right-color: var(--fill-color);\n",
              "      border-top-color: var(--fill-color);\n",
              "    }\n",
              "    60% {\n",
              "      border-color: transparent;\n",
              "      border-right-color: var(--fill-color);\n",
              "    }\n",
              "    80% {\n",
              "      border-color: transparent;\n",
              "      border-right-color: var(--fill-color);\n",
              "      border-bottom-color: var(--fill-color);\n",
              "    }\n",
              "    90% {\n",
              "      border-color: transparent;\n",
              "      border-bottom-color: var(--fill-color);\n",
              "    }\n",
              "  }\n",
              "</style>\n",
              "\n",
              "  <script>\n",
              "    async function quickchart(key) {\n",
              "      const quickchartButtonEl =\n",
              "        document.querySelector('#' + key + ' button');\n",
              "      quickchartButtonEl.disabled = true;  // To prevent multiple clicks.\n",
              "      quickchartButtonEl.classList.add('colab-df-spinner');\n",
              "      try {\n",
              "        const charts = await google.colab.kernel.invokeFunction(\n",
              "            'suggestCharts', [key], {});\n",
              "      } catch (error) {\n",
              "        console.error('Error during call to suggestCharts:', error);\n",
              "      }\n",
              "      quickchartButtonEl.classList.remove('colab-df-spinner');\n",
              "      quickchartButtonEl.classList.add('colab-df-quickchart-complete');\n",
              "    }\n",
              "    (() => {\n",
              "      let quickchartButtonEl =\n",
              "        document.querySelector('#df-6b51626a-8f6b-472a-8bcb-1a8857172395 button');\n",
              "      quickchartButtonEl.style.display =\n",
              "        google.colab.kernel.accessAllowed ? 'block' : 'none';\n",
              "    })();\n",
              "  </script>\n",
              "</div>\n",
              "\n",
              "    </div>\n",
              "  </div>\n"
            ],
            "application/vnd.google.colaboratory.intrinsic+json": {
              "type": "dataframe",
              "variable_name": "df",
              "summary": "{\n  \"name\": \"df\",\n  \"rows\": 994,\n  \"fields\": [\n    {\n      \"column\": \"gender\",\n      \"properties\": {\n        \"dtype\": \"number\",\n        \"std\": 0,\n        \"min\": 0,\n        \"max\": 1,\n        \"num_unique_values\": 2,\n        \"samples\": [\n          1,\n          0\n        ],\n        \"semantic_type\": \"\",\n        \"description\": \"\"\n      }\n    },\n    {\n      \"column\": \"tools\",\n      \"properties\": {\n        \"dtype\": \"number\",\n        \"std\": 0,\n        \"min\": 0,\n        \"max\": 3,\n        \"num_unique_values\": 4,\n        \"samples\": [\n          2,\n          1\n        ],\n        \"semantic_type\": \"\",\n        \"description\": \"\"\n      }\n    },\n    {\n      \"column\": \"level of education\",\n      \"properties\": {\n        \"dtype\": \"number\",\n        \"std\": 1,\n        \"min\": 0,\n        \"max\": 4,\n        \"num_unique_values\": 5,\n        \"samples\": [\n          2,\n          4\n        ],\n        \"semantic_type\": \"\",\n        \"description\": \"\"\n      }\n    },\n    {\n      \"column\": \"mental health\",\n      \"properties\": {\n        \"dtype\": \"number\",\n        \"std\": 0,\n        \"min\": 0,\n        \"max\": 1,\n        \"num_unique_values\": 2,\n        \"samples\": [\n          1,\n          0\n        ],\n        \"semantic_type\": \"\",\n        \"description\": \"\"\n      }\n    },\n    {\n      \"column\": \"test mode\",\n      \"properties\": {\n        \"dtype\": \"number\",\n        \"std\": 0,\n        \"min\": 0,\n        \"max\": 1,\n        \"num_unique_values\": 2,\n        \"samples\": [\n          0,\n          1\n        ],\n        \"semantic_type\": \"\",\n        \"description\": \"\"\n      }\n    },\n    {\n      \"column\": \"score before pandemic\",\n      \"properties\": {\n        \"dtype\": \"number\",\n        \"std\": 10.181547522196231,\n        \"min\": 66.07142857142857,\n        \"max\": 111.64204899531312,\n        \"num_unique_values\": 4,\n        \"samples\": [\n          111.64204899531312,\n          66.07142857142857\n        ],\n        \"semantic_type\": \"\",\n        \"description\": \"\"\n      }\n    },\n    {\n      \"column\": \"score after pandemic\",\n      \"properties\": {\n        \"dtype\": \"number\",\n        \"std\": 10.763341866892747,\n        \"min\": 69.13883299798793,\n        \"max\": 113.00986643539048,\n        \"num_unique_values\": 4,\n        \"samples\": [\n          113.00986643539048,\n          69.13883299798793\n        ],\n        \"semantic_type\": \"\",\n        \"description\": \"\"\n      }\n    },\n    {\n      \"column\": \"aggregate score\",\n      \"properties\": {\n        \"dtype\": \"number\",\n        \"std\": 9.806422961155558,\n        \"min\": 67.60412474849095,\n        \"max\": 110.24154912593232,\n        \"num_unique_values\": 4,\n        \"samples\": [\n          110.24154912593232,\n          67.60412474849095\n        ],\n        \"semantic_type\": \"\",\n        \"description\": \"\"\n      }\n    },\n    {\n      \"column\": \"Cluster\",\n      \"properties\": {\n        \"dtype\": \"number\",\n        \"std\": 0,\n        \"min\": 0,\n        \"max\": 2,\n        \"num_unique_values\": 3,\n        \"samples\": [\n          1,\n          0\n        ],\n        \"semantic_type\": \"\",\n        \"description\": \"\"\n      }\n    },\n    {\n      \"column\": \"Cluster_Selected\",\n      \"properties\": {\n        \"dtype\": \"number\",\n        \"std\": 0,\n        \"min\": 0,\n        \"max\": 2,\n        \"num_unique_values\": 3,\n        \"samples\": [\n          1,\n          0\n        ],\n        \"semantic_type\": \"\",\n        \"description\": \"\"\n      }\n    }\n  ]\n}"
            }
          },
          "metadata": {},
          "execution_count": 25
        }
      ]
    },
    {
      "cell_type": "markdown",
      "source": [
        "# **3. Data Splitting**"
      ],
      "metadata": {
        "id": "BoiRnhNqY03g"
      }
    },
    {
      "cell_type": "markdown",
      "source": [
        "Data dipisahkan menjadi fitur dan target, lalu dibagi dengan proporsi 80:20 menggunakan train_test_split, menghasilkan 795 data latih dan 199 data uji untuk proses pelatihan dan pengujian model."
      ],
      "metadata": {
        "id": "Mva-WGlzhdD2"
      }
    },
    {
      "cell_type": "code",
      "source": [
        "# Pisahkan fitur (X) dan target (y)\n",
        "X = df.drop(columns=['Cluster_Selected'])  # Semua kolom kecuali target\n",
        "y = df['Cluster_Selected']  # Target klasifikasi\n",
        "\n",
        "# Bagi dataset menjadi 80% training dan 20% testing\n",
        "X_train, X_test, y_train, y_test = train_test_split(X, y, test_size=0.2, random_state=42, stratify=y)\n",
        "\n",
        "# Tampilkan ukuran hasil splitting\n",
        "print(f\"Jumlah data latih: {X_train.shape[0]}\")\n",
        "print(f\"Jumlah data uji: {X_test.shape[0]}\")"
      ],
      "metadata": {
        "colab": {
          "base_uri": "https://localhost:8080/"
        },
        "id": "P9m4R0XPY2fA",
        "outputId": "90459c3d-44aa-4417-f750-1bf9ea6f6287"
      },
      "execution_count": 26,
      "outputs": [
        {
          "output_type": "stream",
          "name": "stdout",
          "text": [
            "Jumlah data latih: 795\n",
            "Jumlah data uji: 199\n"
          ]
        }
      ]
    },
    {
      "cell_type": "markdown",
      "source": [
        "# **4. Membangun Model Klasifikasi**"
      ],
      "metadata": {
        "id": "GDO-EZcOZNmH"
      }
    },
    {
      "cell_type": "markdown",
      "source": [
        "## Random Forest"
      ],
      "metadata": {
        "id": "3FMzE0mSdfTb"
      }
    },
    {
      "cell_type": "markdown",
      "source": [
        "### **a. Membangun Model Klasifikasi**"
      ],
      "metadata": {
        "id": "Yw51f9y0ZQD3"
      }
    },
    {
      "cell_type": "markdown",
      "source": [
        "Kode ini digunakan untuk menginisialisasi model Random Forest dengan 100 pohon, melatihnya menggunakan data latih, dan menampilkan konfirmasi bahwa proses pelatihan telah berhasil dilakukan."
      ],
      "metadata": {
        "id": "8IxrVGtdjDy1"
      }
    },
    {
      "cell_type": "code",
      "source": [
        "# Inisialisasi model Random Forest\n",
        "model = RandomForestClassifier(n_estimators=100, random_state=42)\n",
        "\n",
        "# Latih model menggunakan data latih\n",
        "model.fit(X_train, y_train)\n",
        "\n",
        "# Tampilkan hasil training selesai\n",
        "print(\"Model Random Forest berhasil dilatih!\")"
      ],
      "metadata": {
        "colab": {
          "base_uri": "https://localhost:8080/"
        },
        "id": "h8VplEW2ZLwg",
        "outputId": "fe74e713-bf7e-4929-fac4-2fbf7aca7412"
      },
      "execution_count": 27,
      "outputs": [
        {
          "output_type": "stream",
          "name": "stdout",
          "text": [
            "Model Random Forest berhasil dilatih!\n"
          ]
        }
      ]
    },
    {
      "cell_type": "markdown",
      "source": [
        "Algoritma yang saya gunakan ini adalah **Random Forest**, yaitu metode esemble yang terdiri dari banyak pohon keputusan yang bekerja secara bersamaan. Saya memilih algoritma ini karena kemampuannya menghasilkan model yang akurat, tahan terhadap overfitting, mampu menangani data dengan fitur yg kompleks dan yang paling penting sesuai dengan karakteristik dataset saya"
      ],
      "metadata": {
        "id": "aWJKjODTiSZ2"
      }
    },
    {
      "cell_type": "markdown",
      "source": [
        "### **b. Evaluasi Model Klasifikasi**"
      ],
      "metadata": {
        "id": "3YX0xrr5bbst"
      }
    },
    {
      "cell_type": "markdown",
      "source": [
        "Kode ini digunakan untuk memprediksi data uji dengan model Random Forest, menghitung metrik evaluasi (accuracy, precision, recall, dan F1-score), menampilkan classification report, serta membuat dan memvisualisasikan confusion matrix untuk melihat detail hasil prediksi model."
      ],
      "metadata": {
        "id": "570R2iCTjJ_M"
      }
    },
    {
      "cell_type": "code",
      "source": [
        "# Melakukan prediksi dengan data uji\n",
        "y_pred = model.predict(X_test)\n",
        "\n",
        "# Menghitung metrik evaluasi\n",
        "accuracy = accuracy_score(y_test, y_pred)\n",
        "precision = precision_score(y_test, y_pred, average='weighted')  # pakai 'weighted' kalau multiclass\n",
        "recall = recall_score(y_test, y_pred, average='weighted')\n",
        "f1 = f1_score(y_test, y_pred, average='weighted')\n",
        "\n",
        "# Tampilkan hasil\n",
        "print(f\"Accuracy: {accuracy}\")\n",
        "print(f\"Precision: {precision}\")\n",
        "print(f\"Recall: {recall}\")\n",
        "print(f\"F1-Score: {f1}\")\n",
        "\n",
        "# Atau tampilkan ringkasan lengkap\n",
        "print(\"\\nClassification Report:\\n\", classification_report(y_test, y_pred))\n",
        "\n",
        "# Membuat confusion matrix\n",
        "cm = confusion_matrix(y_test, y_pred)\n",
        "\n",
        "# Visualisasi confusion matrix\n",
        "plt.figure(figsize=(6,4))\n",
        "sns.heatmap(cm, annot=True, fmt='d', cmap='Blues')\n",
        "plt.xlabel('Predicted')\n",
        "plt.ylabel('Actual')\n",
        "plt.title('Confusion Matrix')\n",
        "plt.show()"
      ],
      "metadata": {
        "colab": {
          "base_uri": "https://localhost:8080/",
          "height": 688
        },
        "id": "Z-lWN5aMbcAN",
        "outputId": "045f7391-61aa-45f6-83ad-11e9410386ed"
      },
      "execution_count": 28,
      "outputs": [
        {
          "output_type": "stream",
          "name": "stdout",
          "text": [
            "Accuracy: 1.0\n",
            "Precision: 1.0\n",
            "Recall: 1.0\n",
            "F1-Score: 1.0\n",
            "\n",
            "Classification Report:\n",
            "               precision    recall  f1-score   support\n",
            "\n",
            "           0       1.00      1.00      1.00        62\n",
            "           1       1.00      1.00      1.00       101\n",
            "           2       1.00      1.00      1.00        36\n",
            "\n",
            "    accuracy                           1.00       199\n",
            "   macro avg       1.00      1.00      1.00       199\n",
            "weighted avg       1.00      1.00      1.00       199\n",
            "\n"
          ]
        },
        {
          "output_type": "display_data",
          "data": {
            "text/plain": [
              "<Figure size 600x400 with 2 Axes>"
            ],
            "image/png": "[encoded data removed]"
          },
          "metadata": {}
        }
      ]
    },
    {
      "cell_type": "markdown",
      "source": [
        "Hasil evaluasi model algoritma ini (**Random Forest**) menunjukkan performa yang sangat baik dengan nilai akurasi, precision, recall, dan F1-Score yang sempurna (**1.0**). Hal ini terlihat dari classification report dimana setiap kelas diprediksi dengan benar tanpa kesalahan, serta didukung oleh confusion matrix yang memperlihatkan bahwa semua data uji berhasil diklasifikasikan dengan tepat."
      ],
      "metadata": {
        "id": "20W7lHwPje2N"
      }
    },
    {
      "cell_type": "markdown",
      "source": [
        "Berdasarkan hasil ini, model ini dapat dikatakan sangat akurat untuk dataset saya. Namun akurasi sempurna ini juga mengindikasi adanya potensi overfitting, sehingga jika model diterapkan pada data baru di luar dataset ini, performanya perlu diuji lagi."
      ],
      "metadata": {
        "id": "C4wdGyIsj_R9"
      }
    },
    {
      "cell_type": "markdown",
      "source": [
        "## **c. Tuning Model Klasifikasi**"
      ],
      "metadata": {
        "id": "NANXiqOigLoJ"
      }
    },
    {
      "cell_type": "markdown",
      "source": [
        "Tuning model tidak dilakukan, karena hasil evaluasi sudah menunjukkan performa yang sangat baik dengan nilai evaluasi sempurna."
      ],
      "metadata": {
        "id": "bv2yLyWFgOxI"
      }
    },
    {
      "cell_type": "markdown",
      "source": [
        "## **d. Evaluasi Model Klasifikasi setelah Tuning**"
      ],
      "metadata": {
        "id": "An_9Zk8bgRGA"
      }
    },
    {
      "cell_type": "markdown",
      "source": [
        "Tidak dilakukan, karena tuning model tidak dilakukan."
      ],
      "metadata": {
        "id": "pfFGiVnsgTi4"
      }
    },
    {
      "cell_type": "markdown",
      "source": [
        "## **e. Analisis Hasil Evaluasi Model Klasifikasi**"
      ],
      "metadata": {
        "id": "XbRvnOhSfbA5"
      }
    },
    {
      "cell_type": "markdown",
      "source": [
        "Berdasarkan hasil evaluasi, model Random Forest telah menghasilkan performa yang sangat baik dengan nilai Accuracy, Precision, Recall, dan F1-Score sebesar 1.0.\n",
        "Hal ini menunjukkan bahwa model dapat mengklasifikasikan data tanpa kesalahan dan tidak ditemukan kelemahan signifikan pada model.\n",
        "Model tidak mengalami overfitting maupun underfitting, karena hasil evaluasi tinggi diperoleh baik pada data latih maupun data uji.\n",
        "Rekomendasi tindakan lanjutan:\n",
        "- Mengumpulkan data tambahan jika ingin menguji model pada data yang lebih besar dan bervariasi.\n",
        "- Melakukan tuning hyperparameter atau mencoba algoritma lain hanya jika di masa depan performa model menurun."
      ],
      "metadata": {
        "id": "3zJkJr7nfwNx"
      }
    }
  ]
}